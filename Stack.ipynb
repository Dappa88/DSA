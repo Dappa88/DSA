{
 "cells": [
  {
   "cell_type": "code",
   "execution_count": 10,
   "metadata": {},
   "outputs": [],
   "source": [
    "class Stack:\n",
    "    length = 0\n",
    "    def __init__(self):\n",
    "        self.stack = []\n",
    "        self.position = 1\n",
    "        \n",
    "        \n",
    "    def insert(self,value):\n",
    "        if Stack.length ==0:\n",
    "            self.stack.append(value)\n",
    "            Stack.length+=1\n",
    "            return\n",
    "        \n",
    "        self.stack = [value] + self.stack\n",
    "        Stack.length+=1\n",
    "        \n",
    "        return self.stack\n",
    "    \n",
    "    def pop(self):\n",
    "        if Stack.length>1:\n",
    "            temp = self.stack[0]\n",
    "            self.stack = self.stack[self.position:]\n",
    "            Stack.length-=1\n",
    "            return temp\n",
    "        return \"Cant remive from an empty stack\"\n",
    "    \n",
    "    \n",
    "    \n",
    "        \n",
    "        \n",
    "        \n",
    "        \n",
    "    # space complexity - o(N) where N is the len of value added\n",
    "        "
   ]
  },
  {
   "cell_type": "code",
   "execution_count": 16,
   "metadata": {},
   "outputs": [],
   "source": [
    "class Queue:\n",
    "    length = 0\n",
    "    \n",
    "    def __init__(self):\n",
    "        self.queue = []\n",
    "        \n",
    "        \n",
    "    def insert(self,value):\n",
    "        \n",
    "        self.queue = self.queue + [value]\n",
    "        Queue.length +=1\n",
    "        return self.queue\n",
    "        \n",
    "        \n",
    "    def pop(self):\n",
    "        \n",
    "        if Queue.length >1:\n",
    "            temp = self.queue[Queue.length-1]\n",
    "            self.queue = self.queue[0:Queue.length-2]\n",
    "            return temp\n",
    "        return \"Cant remove from an empty queue\"\n",
    "            \n",
    "        \n",
    "            "
   ]
  },
  {
   "cell_type": "code",
   "execution_count": 17,
   "metadata": {},
   "outputs": [],
   "source": [
    "test = Queue()"
   ]
  },
  {
   "cell_type": "code",
   "execution_count": 23,
   "metadata": {},
   "outputs": [
    {
     "data": {
      "text/plain": [
       "17"
      ]
     },
     "execution_count": 23,
     "metadata": {},
     "output_type": "execute_result"
    }
   ],
   "source": []
  },
  {
   "cell_type": "code",
   "execution_count": 56,
   "metadata": {},
   "outputs": [],
   "source": [
    "def PrintTree(arr):\n",
    "    mid = len(arr)//2\n",
    "    \n",
    "    if mid ==0:\n",
    "        \n",
    "        # print(arr[0])\n",
    "        \n",
    "        return\n",
    "    print(arr[mid])\n",
    "    small = PrintTree(arr[0:mid])\n",
    "    \n",
    "    big = PrintTree(arr[mid:])\n",
    "    "
   ]
  },
  {
   "cell_type": "code",
   "execution_count": 142,
   "metadata": {},
   "outputs": [],
   "source": [
    "class Node:\n",
    "    def __init__(self,value):\n",
    "        self.value = value\n",
    "        self.Big = None\n",
    "        self.small = None\n",
    "        \n",
    "        \n",
    "class Tree:\n",
    "    def __init__(self):\n",
    "        self.root = None\n",
    "        \n",
    "    def insert(self,value):\n",
    "        Value = Node(value)\n",
    "        if not self.root:\n",
    "            self.root = Value\n",
    "        else:\n",
    "            Tree.insert_recursive(self,value,self.root)\n",
    "            \n",
    "    def insert_recursive(self,value,root_node):\n",
    "        Value = Node(value)\n",
    "        if Value.value > root_node.value:\n",
    "            if root_node.Big:\n",
    "                Tree.insert_recursive(self,value,root_node.Big)\n",
    "                \n",
    "            else:\n",
    "                print(\"i am here now\")\n",
    "                root_node.Big = Value\n",
    "                return\n",
    "        if Value.value < root_node.value:\n",
    "            if root_node.small:\n",
    "                Tree.insert_recursive(self,value,root_node.small)\n",
    "            else:\n",
    "                root_node.small = Value\n",
    "                return\n",
    "            \n",
    "    def search(self,value):\n",
    "        if self.root is None:\n",
    "            return \"Cant search in an empty tree\"\n",
    "        else:\n",
    "            if value > self.root.value:\n",
    "                return Tree.recurSearch(self,value,self.root.Big,level =0)\n",
    "                \n",
    "            else:\n",
    "                return Tree.recurSearch(self,value,self.root.small,level =0)\n",
    "                \n",
    "                \n",
    "            \n",
    "                \n",
    "                \n",
    "                \n",
    "    def recurSearch(self,value,root_node,level=0):\n",
    "        # count = 0\n",
    "        # print(\"root_node_value\",root_node.Big.value)\n",
    "        if root_node.value == value:\n",
    "            return \"found\"\n",
    "        #  or :\n",
    "            \n",
    "        \n",
    "        if value > root_node.value:\n",
    "            if (not root_node.Big):\n",
    "                return \"Not found\"\n",
    "                \n",
    "            print(\"RIGHT\",level)\n",
    "            return Tree.recurSearch(self,value,root_node.Big,level+1)\n",
    "            \n",
    "        else:\n",
    "            if (not  root_node.small):\n",
    "                return \"Not Found\"\n",
    "            print(\"Left\",level)\n",
    "            return Tree.recurSearch(self,value,root_node.small,level+1)\n",
    "                \n",
    "            \n",
    "        \n",
    "            \n",
    "        \n"
   ]
  },
  {
   "cell_type": "code",
   "execution_count": 143,
   "metadata": {},
   "outputs": [],
   "source": [
    "test = Tree()"
   ]
  },
  {
   "cell_type": "code",
   "execution_count": 144,
   "metadata": {},
   "outputs": [
    {
     "name": "stdout",
     "output_type": "stream",
     "text": [
      "i am here now\n",
      "i am here now\n"
     ]
    }
   ],
   "source": [
    "test.insert(7)\n",
    "test.insert(8)\n",
    "test.insert(9)\n",
    "test.insert(3)\n"
   ]
  },
  {
   "cell_type": "code",
   "execution_count": 139,
   "metadata": {},
   "outputs": [
    {
     "name": "stdout",
     "output_type": "stream",
     "text": [
      "found\n"
     ]
    }
   ],
   "source": [
    "print(test.search(3))"
   ]
  },
  {
   "cell_type": "code",
   "execution_count": 145,
   "metadata": {},
   "outputs": [
    {
     "name": "stdout",
     "output_type": "stream",
     "text": [
      "Left 0\n"
     ]
    },
    {
     "data": {
      "text/plain": [
       "'found'"
      ]
     },
     "execution_count": 145,
     "metadata": {},
     "output_type": "execute_result"
    }
   ],
   "source": [
    "test.recurSearch(3,test.root)"
   ]
  },
  {
   "cell_type": "code",
   "execution_count": 120,
   "metadata": {},
   "outputs": [
    {
     "name": "stdout",
     "output_type": "stream",
     "text": [
      "9\n"
     ]
    }
   ],
   "source": [
    "print(test.root.Big.Big.value)"
   ]
  },
  {
   "cell_type": "code",
   "execution_count": 91,
   "metadata": {},
   "outputs": [
    {
     "name": "stdout",
     "output_type": "stream",
     "text": [
      "3\n"
     ]
    }
   ],
   "source": []
  },
  {
   "cell_type": "code",
   "execution_count": null,
   "metadata": {},
   "outputs": [],
   "source": []
  }
 ],
 "metadata": {
  "kernelspec": {
   "display_name": "Python 3",
   "language": "python",
   "name": "python3"
  },
  "language_info": {
   "codemirror_mode": {
    "name": "ipython",
    "version": 3
   },
   "file_extension": ".py",
   "mimetype": "text/x-python",
   "name": "python",
   "nbconvert_exporter": "python",
   "pygments_lexer": "ipython3",
   "version": "3.11.1"
  },
  "orig_nbformat": 4
 },
 "nbformat": 4,
 "nbformat_minor": 2
}
